{
  "nbformat": 4,
  "nbformat_minor": 0,
  "metadata": {
    "colab": {
      "provenance": []
    },
    "kernelspec": {
      "name": "python3",
      "display_name": "Python 3"
    },
    "language_info": {
      "name": "python"
    }
  },
  "cells": [
    {
      "cell_type": "code",
      "execution_count": null,
      "metadata": {
        "id": "v8VtpLVc-b3v"
      },
      "outputs": [],
      "source": [
        "import pandas as pd\n",
        "import numpy as np\n",
        "from sklearn.model_selection import train_test_split\n",
        "from sklearn.preprocessing import StandardScaler\n",
        "from sklearn.neighbors import KNeighborsClassifier\n",
        "from sklearn.metrics import accuracy_score\n",
        "from sklearn.preprocessing import LabelEncoder\n",
        "from sklearn.impute import SimpleImputer\n",
        "\n",
        "# Carregue o conjunto de dados\n",
        "df = pd.read_csv('abalone_dataset.csv')\n"
      ]
    },
    {
      "cell_type": "code",
      "source": [
        "#\n",
        "df['length_times_diameter'] = df['length'] * df['diameter']\n",
        "\n",
        "# Preencha valores ausentes usando a média\n",
        "imputer = SimpleImputer(strategy='most_frequent')\n",
        "df['sex'] = imputer.fit_transform(df['sex'].values.reshape(-1, 1))\n",
        "# Transformação one-hot encoding para a coluna 'sex'\n",
        "df = pd.get_dummies(df, columns=['sex'], prefix=['sex'], drop_first=True)\n",
        "\n",
        "\n",
        "# Padronize os atributos\n",
        "cols_to_scale = ['length', 'diameter', 'height', 'whole_weight', 'shucked_weight', 'viscera_weight', 'shell_weight', 'type']\n",
        "scaler = StandardScaler()\n",
        "df[cols_to_scale] = scaler.fit_transform(df[cols_to_scale])\n"
      ],
      "metadata": {
        "id": "x3SysHgI-2WA"
      },
      "execution_count": null,
      "outputs": []
    },
    {
      "cell_type": "code",
      "source": [
        "# Codifique a variável alvo\n",
        "label_encoder = LabelEncoder()\n",
        "df['type'] = label_encoder.fit_transform(df['type'])\n",
        "\n",
        "# Separe os atributos e a variável alvo\n",
        "X = df.drop('type', axis=1)\n",
        "y = df['type']\n"
      ],
      "metadata": {
        "id": "ViBYD-81_2EP"
      },
      "execution_count": null,
      "outputs": []
    },
    {
      "cell_type": "code",
      "source": [
        "# Divida os dados em conjuntos de treinamento e teste\n",
        "X_treino, X_teste, y_treino, y_teste = train_test_split(X, y, test_size=0.3, random_state=42)\n"
      ],
      "metadata": {
        "id": "4nt7dcbcAAEv"
      },
      "execution_count": null,
      "outputs": []
    },
    {
      "cell_type": "code",
      "source": [
        "# Inicialize e treine o classificador KNN\n",
        "knn = KNeighborsClassifier(n_neighbors=10)  # Ajuste o n_neighbors\n",
        "knn.fit(X_treino, y_treino)\n",
        "\n",
        "# Faça previsões\n",
        "y_pred = knn.predict(X_teste)\n",
        "\n",
        "# Calcule a acurácia\n",
        "acuracia = accuracy_score(y_teste, y_pred)\n",
        "print(f\"Acurácia: {acuracia}\")\n"
      ],
      "metadata": {
        "colab": {
          "base_uri": "https://localhost:8080/"
        },
        "id": "uh2fAq3SAFjj",
        "outputId": "7e4f6330-05b3-4c15-94f8-719872706d68"
      },
      "execution_count": 12,
      "outputs": [
        {
          "output_type": "stream",
          "name": "stdout",
          "text": [
            "Acurácia: 0.6510638297872341\n"
          ]
        }
      ]
    },
    {
      "cell_type": "code",
      "source": [
        "#salvando no csv\n",
        "df.to_csv(\"new_abalone.csv\")"
      ],
      "metadata": {
        "id": "DVa4VItfDtUi"
      },
      "execution_count": 14,
      "outputs": []
    }
  ]
}